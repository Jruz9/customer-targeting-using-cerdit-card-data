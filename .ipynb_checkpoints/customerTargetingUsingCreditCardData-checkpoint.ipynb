{
 "cells": [
  {
   "cell_type": "markdown",
   "id": "ecd93654",
   "metadata": {},
   "source": [
    "# Project 4: customer clustering using credit card data\n",
    "\n",
    "## Introduction\n",
    "- For this Project we are trying to help a marketing agenecy prepare a a tarageted marketing plan using credit card data\n",
    "- We need to classify the data into certain sections to discover which type of customers will be low to high net worth and save resoures with this data."
   ]
  }
 ],
 "metadata": {
  "kernelspec": {
   "display_name": "Python 3 (ipykernel)",
   "language": "python",
   "name": "python3"
  },
  "language_info": {
   "codemirror_mode": {
    "name": "ipython",
    "version": 3
   },
   "file_extension": ".py",
   "mimetype": "text/x-python",
   "name": "python",
   "nbconvert_exporter": "python",
   "pygments_lexer": "ipython3",
   "version": "3.9.5"
  }
 },
 "nbformat": 4,
 "nbformat_minor": 5
}
